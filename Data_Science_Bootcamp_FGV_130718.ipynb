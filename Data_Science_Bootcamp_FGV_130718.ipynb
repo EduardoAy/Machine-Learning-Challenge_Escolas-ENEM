{
  "nbformat": 4,
  "nbformat_minor": 0,
  "metadata": {
    "colab": {
      "name": "Data Science_Bootcamp_FGV_130718.ipynb",
      "provenance": [],
      "collapsed_sections": []
    },
    "kernelspec": {
      "display_name": "PySpark",
      "name": "pysparkkernel",
      "language": ""
    }
  },
  "cells": [
    {
      "cell_type": "markdown",
      "metadata": {
        "id": "NeqGDN6I7vc4"
      },
      "source": [
        "## Eduardo Aydar de Oliveira - Everis\n",
        "## Edgar Socrates Caria - Everis\n",
        "\n",
        "\n",
        "\n",
        "---\n",
        "\n"
      ]
    },
    {
      "cell_type": "markdown",
      "metadata": {
        "id": "K4jjExH0f677"
      },
      "source": [
        "# **``Cálculo das estimativas das notas - ENEM  ``**\n"
      ]
    },
    {
      "cell_type": "markdown",
      "metadata": {
        "id": "TpjJqhWDWvgH"
      },
      "source": [
        "### 1. Carregamento dos Dados\n",
        "Download dos arquivos de dados das escolas, e carga no Python.\n",
        "\n",
        "---\n"
      ]
    },
    {
      "cell_type": "markdown",
      "metadata": {
        "id": "kgzrf0Hbdh9g"
      },
      "source": [
        "**1.1 Importação das Lib's necessárias**"
      ]
    },
    {
      "cell_type": "code",
      "metadata": {
        "id": "pnq6wM2sdgdw"
      },
      "source": [
        "!apt-get update\n",
        "!apt-get install openjdk-8-jdk-headless -qq > /dev/null\n",
        "!wget -q http://apache.osuosl.org/spark/spark-2.2.1/spark-2.2.1-bin-hadoop2.7.tgz\n",
        "!tar xf spark-2.2.1-bin-hadoop2.7.tgz\n",
        "!pip install -q findspark"
      ],
      "execution_count": null,
      "outputs": []
    },
    {
      "cell_type": "code",
      "metadata": {
        "id": "IN_Q7LiVbwSu"
      },
      "source": [
        "import os\n",
        "os.environ[\"JAVA_HOME\"] = \"/usr/lib/jvm/java-8-openjdk-amd64\"\n",
        "os.environ[\"SPARK_HOME\"] = \"/content/spark-2.2.1-bin-hadoop2.7\""
      ],
      "execution_count": null,
      "outputs": []
    },
    {
      "cell_type": "code",
      "metadata": {
        "id": "mHQHmNSOcEHh"
      },
      "source": [
        "!pip install -U -q PyDrive"
      ],
      "execution_count": null,
      "outputs": []
    },
    {
      "cell_type": "code",
      "metadata": {
        "id": "AhdCSZrmcE31"
      },
      "source": [
        "# pydrive documentation: https://pythonhosted.org/PyDrive/filelist.html\n",
        "\n",
        "from pydrive.auth import GoogleAuth\n",
        "from pydrive.drive import GoogleDrive\n",
        "from google.colab import auth\n",
        "from oauth2client.client import GoogleCredentials\n",
        " \n",
        "# 1. Authenticate and create the PyDrive client.\n",
        "auth.authenticate_user()\n",
        "gauth = GoogleAuth()\n",
        "gauth.credentials = GoogleCredentials.get_application_default()\n",
        "drive = GoogleDrive(gauth)"
      ],
      "execution_count": null,
      "outputs": []
    },
    {
      "cell_type": "code",
      "metadata": {
        "id": "O6DtcZcXcJ2B"
      },
      "source": [
        "# https://drive.google.com/file/d/1i-DzRlw6LzCttSt5d1QrPIlHyMR1td4V/view?usp=sharing\n",
        "\n",
        " # add files to Collaboratory\n",
        "escolas_list = '1i-DzRlw6LzCttSt5d1QrPIlHyMR1td4V'\n",
        "escolas_list = drive.CreateFile({'id': escolas_list})\n",
        "escolas_list.GetContentFile('ENEM2015.csv')\n",
        "\n",
        "# https://drive.google.com/file/d/1U9eBMS6bsDWCHxpqXQ6DZQOtwrCnuVeV/view?usp=sharing\n",
        "\n",
        " # add files to Collaboratory\n",
        "escolas_enem = '1U9eBMS6bsDWCHxpqXQ6DZQOtwrCnuVeV'\n",
        "escolas_enem = drive.CreateFile({'id': escolas_enem})\n",
        "escolas_enem.GetContentFile('ESC2013_RMSP_CEM.csv')\n"
      ],
      "execution_count": null,
      "outputs": []
    },
    {
      "cell_type": "code",
      "metadata": {
        "id": "ScyL-zWhfbwT",
        "colab": {
          "base_uri": "https://localhost:8080/",
          "height": 85
        },
        "outputId": "5e110140-5a14-4d94-afe2-f9e285f67f32"
      },
      "source": [
        "!ls"
      ],
      "execution_count": null,
      "outputs": [
        {
          "output_type": "stream",
          "text": [
            "datalab\t\t\t   spark-2.2.1-bin-hadoop2.7.tgz\r\n",
            "ENEM2015.csv\t\t   spark-2.2.1-bin-hadoop2.7.tgz.1\r\n",
            "ESC2013_RMSP_CEM.csv\t   spark-2.2.1-bin-hadoop2.7.tgz.2\r\n",
            "spark-2.2.1-bin-hadoop2.7\r\n"
          ],
          "name": "stdout"
        }
      ]
    },
    {
      "cell_type": "code",
      "metadata": {
        "id": "QMrvtD5Gb0iq"
      },
      "source": [
        "import findspark\n",
        "findspark.init()\n",
        "from pyspark.sql import SparkSession\n",
        "\n",
        "spark = SparkSession.builder.master(\"local[*]\").getOrCreate()"
      ],
      "execution_count": null,
      "outputs": []
    },
    {
      "cell_type": "code",
      "metadata": {
        "id": "sPdi-hupbrvC"
      },
      "source": [
        "from operator import add\n",
        "from pyspark import SparkContext"
      ],
      "execution_count": null,
      "outputs": []
    },
    {
      "cell_type": "markdown",
      "metadata": {
        "id": "NHIhNkR5eyQQ"
      },
      "source": [
        "### 1.2 Carregamento dos Dados das escolas"
      ]
    },
    {
      "cell_type": "code",
      "metadata": {
        "id": "eu0bQPf8tA9T"
      },
      "source": [
        "from pyspark.sql.types import *\n",
        "from pyspark.sql.functions import *\n",
        "import math\n",
        "\n",
        "from pyspark.ml.classification import LogisticRegression\n",
        "from pyspark.ml.feature import VectorAssembler"
      ],
      "execution_count": null,
      "outputs": []
    },
    {
      "cell_type": "code",
      "metadata": {
        "id": "evfcxXSGfv3M",
        "colab": {
          "base_uri": "https://localhost:8080/",
          "height": 187
        },
        "outputId": "ac80c598-594d-47a9-fa4a-dbfb94a9bfce"
      },
      "source": [
        "sc = SparkContext.getOrCreate()\n",
        "\n",
        "escolas = spark.read.csv('ENEM2015.csv', inferSchema=True, header=True)\n",
        "type(escolas)\n",
        "escolas.take(10)\n"
      ],
      "execution_count": null,
      "outputs": [
        {
          "output_type": "execute_result",
          "data": {
            "text/plain": [
              "[Row(CODIGO DA ENTIDADE=35000139, NUMERO DE PARTICIPANTES=142, Classificacao=1),\n",
              " Row(CODIGO DA ENTIDADE=35000140, NUMERO DE PARTICIPANTES=79, Classificacao=1),\n",
              " Row(CODIGO DA ENTIDADE=35000267, NUMERO DE PARTICIPANTES=131, Classificacao=2),\n",
              " Row(CODIGO DA ENTIDADE=35000280, NUMERO DE PARTICIPANTES=146, Classificacao=1),\n",
              " Row(CODIGO DA ENTIDADE=35000334, NUMERO DE PARTICIPANTES=95, Classificacao=1),\n",
              " Row(CODIGO DA ENTIDADE=35000413, NUMERO DE PARTICIPANTES=100, Classificacao=1),\n",
              " Row(CODIGO DA ENTIDADE=35000486, NUMERO DE PARTICIPANTES=146, Classificacao=3),\n",
              " Row(CODIGO DA ENTIDADE=35000553, NUMERO DE PARTICIPANTES=172, Classificacao=2),\n",
              " Row(CODIGO DA ENTIDADE=35000620, NUMERO DE PARTICIPANTES=81, Classificacao=2),\n",
              " Row(CODIGO DA ENTIDADE=35000668, NUMERO DE PARTICIPANTES=44, Classificacao=1)]"
            ]
          },
          "metadata": {
            "tags": []
          },
          "execution_count": 19
        }
      ]
    },
    {
      "cell_type": "code",
      "metadata": {
        "id": "-ATzwTAjhLew",
        "colab": {
          "base_uri": "https://localhost:8080/",
          "height": 207
        },
        "outputId": "821fbf5f-5064-44f3-96c3-9c292f779132"
      },
      "source": [
        "lista = spark.read.csv('ESC2013_RMSP_CEM.csv', inferSchema=True, header=True)\n",
        "type(lista)\n",
        "lista.take(10)"
      ],
      "execution_count": null,
      "outputs": [
        {
          "output_type": "execute_result",
          "data": {
            "text/plain": [
              "[Row(ID=90, LONGITUDE=-47143986, LATITUDE=-23986886, CODESC=35080548, CODESCTX=35080548, NOMEESC=u'BAIRRO DOS BARNABES RECANTO DAS ORQUIDEAS', NOMEMUN=u'JUQUITIBA', CODMUN=3526209, NOMDIST=u'BARNABES', CODDIST=352620910.0, COD_SC=None, COD_DEP=2, TIP_DEP=u'Estadual', BAIRRO=u'BAIRRO DOS BARNABES', CEP=6950000, END_ESC=u'RUA ANTONIO FRANCISCO PEREIRA', NUM_ESC=u'285', DDD=u'11', TELEFONE=u'46841502', LOCALIZA=1, LAB_INF=0, QD_ESP_C=0, QD_ESP_D=1, BIBLIO=0, ENS_REG=1, REG_IN_CR=0, REG_IN_PE=0, REG_FU_8A=0, REG_FU_9A=1, REG_MED=0, REG_MED_I=0, REG_MED_N=0, REG_MED_P=0, ENS_ESP=0, ESP_IN_CR=0, ESP_IN_PE=0, ESP_FU_8A=0, ESP_FU_9A=0, ESP_MED=0, ESP_MED_I=0, ESP_MED_N=0, ESP_MED_P=0, ESP_EJA_F=0, ESP_EJA_M=0, EJA=0, EJA_FUND=0, EJA_MED=0, EJA_PROJ=0, AP5EF_07=93.6, AP9EF_07=nan, AP3EM_07=nan, AB1EM_07=nan, AP5EF_08=97.5, AP9EF_08=nan, AP3EM_08=nan, AB1EM_08=nan, AP5EF_09=94.4, AP9EF_09=nan, AP3EM_09=nan, AB1EM_09=nan, AP5EF_10=98.4, AP9EF_10=nan, AP3EM_10=nan, AB1EM_10=nan, AP5EF_11=96.2, AP9EF_11=nan, APR3EM_11=nan, AB1EM_11=nan, AP5EF_12=93.6, AP9EF_12=nan, AP3EM_12=nan, AB1EM_12=nan, AP5EF_13=96.4, AP9EF_13=nan, AP3EM_13=nan, AB1EM_13=nan, AP5EF_14=100.0, AP9EF_14=nan, AP3EM_14=nan, AB1EM_14=nan, DI3EM_07=nan, DI3EM_08=nan, DI3EM_09=nan, DI3EM_10=nan, DI3EM_11=nan, DI3EM_12=nan, DI3EM_13=nan, DI3EM_14=nan, MAT05_AI=nan, LP05_AI=nan, NP05_AI=nan, MAT07_AI=187.79, LP07_AI=169.92, NP07_AI=4.64, MAT09_AI=206.97, LP09_AI=182.36, NP09_AI=5.23, MAT11_AI=189.51, LP11_AI=170.01, NP11_AI=4.67, MAT13_AI=210.17, LP13_AI=190.85, NP13_AI=5.44, IDEB05AI=nan, IDEB07AI=4.5, IDEB09AI=5.2, IDEB11AI=4.5, IDEB13AI=5.4, MAT05_AF=nan, LP05_AF=nan, NP05_AF=nan, MAT07_AF=nan, LP07_AF=nan, NP07_AF=nan, MAT09_AF=nan, LP09_AF=nan, NP09_AF=nan, MAT11_AF=nan, LP11_AF=nan, NP11_AF=nan, MAT13_AF=nan, LP13_AF=nan, NP13_AF=nan, IDEB05AF=nan, IDEB07AF=nan, IDEB09AF=nan, IDEB11AF=nan, IDEB13AF=nan, RED_EN13=nan, LC_EN13=nan, MAT_EN13=nan, CH_EN13=nan, CN_EN13=nan, ENEM2013=nan, INSE_AB=50.6921, INSE_CL=u'Medio Alto'),\n",
              " Row(ID=398, LONGITUDE=-47145545, LATITUDE=-23985717, CODESC=35352524, CODESCTX=35352524, NOMEESC=u'MARIA CRISTINA BRESSALI CHAMA CRECHE MUNICIPAL', NOMEMUN=u'JUQUITIBA', CODMUN=3526209, NOMDIST=u'BARNABES', CODDIST=352620910.0, COD_SC=None, COD_DEP=3, TIP_DEP=u'Municipal', BAIRRO=u'BARNABES', CEP=6950000, END_ESC=u'RUA ANTONIO SOARES GODINHO', NUM_ESC=u'31', DDD=u'11', TELEFONE=u'46841666', LOCALIZA=1, LAB_INF=0, QD_ESP_C=0, QD_ESP_D=0, BIBLIO=0, ENS_REG=1, REG_IN_CR=1, REG_IN_PE=0, REG_FU_8A=0, REG_FU_9A=0, REG_MED=0, REG_MED_I=0, REG_MED_N=0, REG_MED_P=0, ENS_ESP=0, ESP_IN_CR=0, ESP_IN_PE=0, ESP_FU_8A=0, ESP_FU_9A=0, ESP_MED=0, ESP_MED_I=0, ESP_MED_N=0, ESP_MED_P=0, ESP_EJA_F=0, ESP_EJA_M=0, EJA=0, EJA_FUND=0, EJA_MED=0, EJA_PROJ=0, AP5EF_07=nan, AP9EF_07=nan, AP3EM_07=nan, AB1EM_07=nan, AP5EF_08=nan, AP9EF_08=nan, AP3EM_08=nan, AB1EM_08=nan, AP5EF_09=nan, AP9EF_09=nan, AP3EM_09=nan, AB1EM_09=nan, AP5EF_10=nan, AP9EF_10=nan, AP3EM_10=nan, AB1EM_10=nan, AP5EF_11=nan, AP9EF_11=nan, APR3EM_11=nan, AB1EM_11=nan, AP5EF_12=nan, AP9EF_12=nan, AP3EM_12=nan, AB1EM_12=nan, AP5EF_13=nan, AP9EF_13=nan, AP3EM_13=nan, AB1EM_13=nan, AP5EF_14=nan, AP9EF_14=nan, AP3EM_14=nan, AB1EM_14=nan, DI3EM_07=nan, DI3EM_08=nan, DI3EM_09=nan, DI3EM_10=nan, DI3EM_11=nan, DI3EM_12=nan, DI3EM_13=nan, DI3EM_14=nan, MAT05_AI=nan, LP05_AI=nan, NP05_AI=nan, MAT07_AI=nan, LP07_AI=nan, NP07_AI=nan, MAT09_AI=nan, LP09_AI=nan, NP09_AI=nan, MAT11_AI=nan, LP11_AI=nan, NP11_AI=nan, MAT13_AI=nan, LP13_AI=nan, NP13_AI=nan, IDEB05AI=nan, IDEB07AI=nan, IDEB09AI=nan, IDEB11AI=nan, IDEB13AI=nan, MAT05_AF=nan, LP05_AF=nan, NP05_AF=nan, MAT07_AF=nan, LP07_AF=nan, NP07_AF=nan, MAT09_AF=nan, LP09_AF=nan, NP09_AF=nan, MAT11_AF=nan, LP11_AF=nan, NP11_AF=nan, MAT13_AF=nan, LP13_AF=nan, NP13_AF=nan, IDEB05AF=nan, IDEB07AF=nan, IDEB09AF=nan, IDEB11AF=nan, IDEB13AF=nan, RED_EN13=nan, LC_EN13=nan, MAT_EN13=nan, CH_EN13=nan, CN_EN13=nan, ENEM2013=nan, INSE_AB=nan, INSE_CL=None),\n",
              " Row(ID=399, LONGITUDE=-47145560, LATITUDE=-23985685, CODESC=35069929, CODESCTX=35069929, NOMEESC=u'TERRA NOVA EM', NOMEMUN=u'JUQUITIBA', CODMUN=3526209, NOMDIST=u'BARNABES', CODDIST=352620910.0, COD_SC=None, COD_DEP=3, TIP_DEP=u'Municipal', BAIRRO=u'BARNABES', CEP=6950000, END_ESC=u'R ANTONIO SOARES GODINHO', NUM_ESC=u'35', DDD=u'11', TELEFONE=u'46841462', LOCALIZA=1, LAB_INF=0, QD_ESP_C=0, QD_ESP_D=0, BIBLIO=0, ENS_REG=1, REG_IN_CR=1, REG_IN_PE=1, REG_FU_8A=0, REG_FU_9A=0, REG_MED=0, REG_MED_I=0, REG_MED_N=0, REG_MED_P=0, ENS_ESP=0, ESP_IN_CR=0, ESP_IN_PE=0, ESP_FU_8A=0, ESP_FU_9A=0, ESP_MED=0, ESP_MED_I=0, ESP_MED_N=0, ESP_MED_P=0, ESP_EJA_F=0, ESP_EJA_M=0, EJA=0, EJA_FUND=0, EJA_MED=0, EJA_PROJ=0, AP5EF_07=nan, AP9EF_07=nan, AP3EM_07=nan, AB1EM_07=nan, AP5EF_08=nan, AP9EF_08=nan, AP3EM_08=nan, AB1EM_08=nan, AP5EF_09=nan, AP9EF_09=nan, AP3EM_09=nan, AB1EM_09=nan, AP5EF_10=nan, AP9EF_10=nan, AP3EM_10=nan, AB1EM_10=nan, AP5EF_11=98.2, AP9EF_11=nan, APR3EM_11=nan, AB1EM_11=nan, AP5EF_12=nan, AP9EF_12=nan, AP3EM_12=nan, AB1EM_12=nan, AP5EF_13=nan, AP9EF_13=nan, AP3EM_13=nan, AB1EM_13=nan, AP5EF_14=nan, AP9EF_14=nan, AP3EM_14=nan, AB1EM_14=nan, DI3EM_07=nan, DI3EM_08=nan, DI3EM_09=nan, DI3EM_10=nan, DI3EM_11=nan, DI3EM_12=nan, DI3EM_13=nan, DI3EM_14=nan, MAT05_AI=nan, LP05_AI=nan, NP05_AI=nan, MAT07_AI=nan, LP07_AI=nan, NP07_AI=nan, MAT09_AI=nan, LP09_AI=nan, NP09_AI=nan, MAT11_AI=nan, LP11_AI=nan, NP11_AI=nan, MAT13_AI=nan, LP13_AI=nan, NP13_AI=nan, IDEB05AI=nan, IDEB07AI=nan, IDEB09AI=nan, IDEB11AI=nan, IDEB13AI=nan, MAT05_AF=nan, LP05_AF=nan, NP05_AF=nan, MAT07_AF=nan, LP07_AF=nan, NP07_AF=nan, MAT09_AF=nan, LP09_AF=nan, NP09_AF=nan, MAT11_AF=nan, LP11_AF=nan, NP11_AF=nan, MAT13_AF=nan, LP13_AF=nan, NP13_AF=nan, IDEB05AF=nan, IDEB07AF=nan, IDEB09AF=nan, IDEB11AF=nan, IDEB13AF=nan, RED_EN13=nan, LC_EN13=nan, MAT_EN13=nan, CH_EN13=nan, CN_EN13=nan, ENEM2013=nan, INSE_AB=nan, INSE_CL=None),\n",
              " Row(ID=400, LONGITUDE=-47146239, LATITUDE=-23983873, CODESC=35036365, CODESCTX=35036365, NOMEESC=u'BAIRRO DOS BARNABES', NOMEMUN=u'JUQUITIBA', CODMUN=3526209, NOMDIST=u'BARNABES', CODDIST=352620910.0, COD_SC=None, COD_DEP=2, TIP_DEP=u'Estadual', BAIRRO=u'BARNABES', CEP=6950000, END_ESC=u'R ANTONIO SOARES GODINHO', NUM_ESC=u'413', DDD=u'11', TELEFONE=u'46841155', LOCALIZA=1, LAB_INF=1, QD_ESP_C=0, QD_ESP_D=1, BIBLIO=0, ENS_REG=1, REG_IN_CR=0, REG_IN_PE=0, REG_FU_8A=1, REG_FU_9A=1, REG_MED=1, REG_MED_I=0, REG_MED_N=0, REG_MED_P=0, ENS_ESP=0, ESP_IN_CR=0, ESP_IN_PE=0, ESP_FU_8A=0, ESP_FU_9A=0, ESP_MED=0, ESP_MED_I=0, ESP_MED_N=0, ESP_MED_P=0, ESP_EJA_F=0, ESP_EJA_M=0, EJA=0, EJA_FUND=0, EJA_MED=0, EJA_PROJ=0, AP5EF_07=nan, AP9EF_07=76.6, AP3EM_07=77.1, AB1EM_07=0.0, AP5EF_08=nan, AP9EF_08=80.7, AP3EM_08=89.5, AB1EM_08=0.0, AP5EF_09=nan, AP9EF_09=92.1, AP3EM_09=93.1, AB1EM_09=6.5, AP5EF_10=nan, AP9EF_10=84.9, AP3EM_10=90.2, AB1EM_10=5.9, AP5EF_11=nan, AP9EF_11=98.1, APR3EM_11=87.1, AB1EM_11=5.0, AP5EF_12=nan, AP9EF_12=87.6, AP3EM_12=84.2, AB1EM_12=8.9, AP5EF_13=nan, AP9EF_13=83.1, AP3EM_13=97.0, AB1EM_13=5.9, AP5EF_14=nan, AP9EF_14=84.7, AP3EM_14=94.2, AB1EM_14=8.8, DI3EM_07=32.0, DI3EM_08=23.9, DI3EM_09=25.3, DI3EM_10=16.1, DI3EM_11=10.0, DI3EM_12=9.1, DI3EM_13=10.1, DI3EM_14=10.6, MAT05_AI=nan, LP05_AI=nan, NP05_AI=nan, MAT07_AI=nan, LP07_AI=nan, NP07_AI=nan, MAT09_AI=nan, LP09_AI=nan, NP09_AI=nan, MAT11_AI=nan, LP11_AI=nan, NP11_AI=nan, MAT13_AI=nan, LP13_AI=nan, NP13_AI=nan, IDEB05AI=nan, IDEB07AI=nan, IDEB09AI=nan, IDEB11AI=nan, IDEB13AI=nan, MAT05_AF=nan, LP05_AF=nan, NP05_AF=nan, MAT07_AF=230.4, LP07_AF=220.14, NP07_AF=4.18, MAT09_AF=229.93, LP09_AF=229.88, NP09_AF=4.33, MAT11_AF=242.32, LP11_AF=248.41, NP11_AF=4.85, MAT13_AF=247.08, LP13_AF=238.32, NP13_AF=4.76, IDEB05AF=nan, IDEB07AF=3.7, IDEB09AF=4.2, IDEB11AF=4.5, IDEB13AF=4.4, RED_EN13=nan, LC_EN13=nan, MAT_EN13=nan, CH_EN13=nan, CN_EN13=nan, ENEM2013=nan, INSE_AB=47.3253, INSE_CL=u'Medio'),\n",
              " Row(ID=97, LONGITUDE=-47141337, LATITUDE=-23964408, CODESC=35913424, CODESCTX=35913424, NOMEESC=u'BAIRRO DAS SENHORINHAS', NOMEMUN=u'JUQUITIBA', CODMUN=3526209, NOMDIST=u'BARNABES', CODDIST=352620910.0, COD_SC=None, COD_DEP=2, TIP_DEP=u'Estadual', BAIRRO=u'SENHORINHAS', CEP=6950000, END_ESC=u'RUA DOS LAGOS', NUM_ESC=u'20', DDD=u'11', TELEFONE=u'46812769', LOCALIZA=1, LAB_INF=0, QD_ESP_C=1, QD_ESP_D=0, BIBLIO=0, ENS_REG=1, REG_IN_CR=0, REG_IN_PE=0, REG_FU_8A=1, REG_FU_9A=1, REG_MED=1, REG_MED_I=0, REG_MED_N=0, REG_MED_P=0, ENS_ESP=0, ESP_IN_CR=0, ESP_IN_PE=0, ESP_FU_8A=0, ESP_FU_9A=0, ESP_MED=0, ESP_MED_I=0, ESP_MED_N=0, ESP_MED_P=0, ESP_EJA_F=0, ESP_EJA_M=0, EJA=0, EJA_FUND=0, EJA_MED=0, EJA_PROJ=0, AP5EF_07=82.1, AP9EF_07=89.4, AP3EM_07=80.0, AB1EM_07=11.3, AP5EF_08=86.5, AP9EF_08=97.7, AP3EM_08=93.5, AB1EM_08=11.0, AP5EF_09=85.7, AP9EF_09=96.9, AP3EM_09=92.5, AB1EM_09=0.0, AP5EF_10=100.0, AP9EF_10=94.3, AP3EM_10=95.0, AB1EM_10=0.0, AP5EF_11=100.0, AP9EF_11=100.0, APR3EM_11=81.4, AB1EM_11=1.9, AP5EF_12=88.9, AP9EF_12=94.6, AP3EM_12=93.9, AB1EM_12=0.0, AP5EF_13=96.0, AP9EF_13=90.6, AP3EM_13=88.0, AB1EM_13=0.0, AP5EF_14=100.0, AP9EF_14=92.5, AP3EM_14=91.8, AB1EM_14=4.1, DI3EM_07=27.3, DI3EM_08=30.3, DI3EM_09=18.4, DI3EM_10=25.7, DI3EM_11=18.4, DI3EM_12=25.5, DI3EM_13=6.1, DI3EM_14=16.3, MAT05_AI=nan, LP05_AI=nan, NP05_AI=nan, MAT07_AI=181.79, LP07_AI=163.45, NP07_AI=4.41, MAT09_AI=189.22, LP09_AI=172.29, NP09_AI=4.71, MAT11_AI=208.92, LP11_AI=190.19, NP11_AI=5.41, MAT13_AI=191.72, LP13_AI=165.7, NP13_AI=4.64, IDEB05AI=nan, IDEB07AI=4.2, IDEB09AI=4.5, IDEB11AI=5.3, IDEB13AI=4.6, MAT05_AF=nan, LP05_AF=nan, NP05_AF=nan, MAT07_AF=241.29, LP07_AF=226.74, NP07_AF=4.47, MAT09_AF=172.4, LP09_AF=170.8, NP09_AF=2.39, MAT11_AF=249.23, LP11_AF=244.94, NP11_AF=4.9, MAT13_AF=244.75, LP13_AF=231.59, NP13_AF=4.61, IDEB05AF=nan, IDEB07AF=4.2, IDEB09AF=2.3, IDEB11AF=4.7, IDEB13AF=4.4, RED_EN13=451.33, LC_EN13=469.34, MAT_EN13=480.52, CH_EN13=485.11, CN_EN13=444.71, ENEM2013=469.92, INSE_AB=49.3778, INSE_CL=u'Medio'),\n",
              " Row(ID=91, LONGITUDE=-47120786, LATITUDE=-23955215, CODESC=35915282, CODESCTX=35915282, NOMEESC=u'BAIRRO VITALINO', NOMEMUN=u'JUQUITIBA', CODMUN=3526209, NOMDIST=u'BARNABES', CODDIST=352620910.0, COD_SC=None, COD_DEP=2, TIP_DEP=u'Estadual', BAIRRO=u'VITALINO', CEP=6950000, END_ESC=u'ESTR CACHOEIRA DO FRANCA', NUM_ESC=u'100', DDD=u'11', TELEFONE=u'46841138', LOCALIZA=2, LAB_INF=1, QD_ESP_C=1, QD_ESP_D=0, BIBLIO=0, ENS_REG=1, REG_IN_CR=0, REG_IN_PE=0, REG_FU_8A=0, REG_FU_9A=1, REG_MED=0, REG_MED_I=0, REG_MED_N=0, REG_MED_P=0, ENS_ESP=0, ESP_IN_CR=0, ESP_IN_PE=0, ESP_FU_8A=0, ESP_FU_9A=0, ESP_MED=0, ESP_MED_I=0, ESP_MED_N=0, ESP_MED_P=0, ESP_EJA_F=0, ESP_EJA_M=0, EJA=0, EJA_FUND=0, EJA_MED=0, EJA_PROJ=0, AP5EF_07=100.0, AP9EF_07=nan, AP3EM_07=nan, AB1EM_07=nan, AP5EF_08=100.0, AP9EF_08=nan, AP3EM_08=nan, AB1EM_08=nan, AP5EF_09=92.3, AP9EF_09=nan, AP3EM_09=nan, AB1EM_09=nan, AP5EF_10=92.9, AP9EF_10=nan, AP3EM_10=nan, AB1EM_10=nan, AP5EF_11=100.0, AP9EF_11=nan, APR3EM_11=nan, AB1EM_11=nan, AP5EF_12=100.0, AP9EF_12=nan, AP3EM_12=nan, AB1EM_12=nan, AP5EF_13=100.0, AP9EF_13=nan, AP3EM_13=nan, AB1EM_13=nan, AP5EF_14=100.0, AP9EF_14=nan, AP3EM_14=nan, AB1EM_14=nan, DI3EM_07=nan, DI3EM_08=nan, DI3EM_09=nan, DI3EM_10=nan, DI3EM_11=nan, DI3EM_12=nan, DI3EM_13=nan, DI3EM_14=nan, MAT05_AI=nan, LP05_AI=nan, NP05_AI=nan, MAT07_AI=nan, LP07_AI=nan, NP07_AI=nan, MAT09_AI=nan, LP09_AI=nan, NP09_AI=nan, MAT11_AI=nan, LP11_AI=nan, NP11_AI=nan, MAT13_AI=nan, LP13_AI=nan, NP13_AI=nan, IDEB05AI=nan, IDEB07AI=nan, IDEB09AI=nan, IDEB11AI=nan, IDEB13AI=nan, MAT05_AF=nan, LP05_AF=nan, NP05_AF=nan, MAT07_AF=nan, LP07_AF=nan, NP07_AF=nan, MAT09_AF=nan, LP09_AF=nan, NP09_AF=nan, MAT11_AF=nan, LP11_AF=nan, NP11_AF=nan, MAT13_AF=nan, LP13_AF=nan, NP13_AF=nan, IDEB05AF=nan, IDEB07AF=nan, IDEB09AF=nan, IDEB11AF=nan, IDEB13AF=nan, RED_EN13=nan, LC_EN13=nan, MAT_EN13=nan, CH_EN13=nan, CN_EN13=nan, ENEM2013=nan, INSE_AB=nan, INSE_CL=None),\n",
              " Row(ID=98, LONGITUDE=-47079158, LATITUDE=-23939686, CODESC=35910569, CODESCTX=35910569, NOMEESC=u'BAIRRO NOSSA SENHORA DA CONCEICAO', NOMEMUN=u'JUQUITIBA', CODMUN=3526209, NOMDIST=u'JUQUITIBA', CODDIST=352620905.0, COD_SC=None, COD_DEP=2, TIP_DEP=u'Estadual', BAIRRO=u'NOSSA SENHORA CONCEICAO', CEP=6950000, END_ESC=u'RUA OSWALDO BARBOSA GUIMARAES', NUM_ESC=u'400', DDD=u'11', TELEFONE=u'46814350', LOCALIZA=1, LAB_INF=1, QD_ESP_C=0, QD_ESP_D=0, BIBLIO=1, ENS_REG=1, REG_IN_CR=0, REG_IN_PE=0, REG_FU_8A=1, REG_FU_9A=1, REG_MED=1, REG_MED_I=0, REG_MED_N=0, REG_MED_P=0, ENS_ESP=0, ESP_IN_CR=0, ESP_IN_PE=0, ESP_FU_8A=0, ESP_FU_9A=0, ESP_MED=0, ESP_MED_I=0, ESP_MED_N=0, ESP_MED_P=0, ESP_EJA_F=0, ESP_EJA_M=0, EJA=0, EJA_FUND=0, EJA_MED=0, EJA_PROJ=0, AP5EF_07=91.3, AP9EF_07=89.1, AP3EM_07=nan, AB1EM_07=nan, AP5EF_08=90.0, AP9EF_08=82.8, AP3EM_08=nan, AB1EM_08=nan, AP5EF_09=86.5, AP9EF_09=89.5, AP3EM_09=nan, AB1EM_09=nan, AP5EF_10=88.9, AP9EF_10=83.0, AP3EM_10=nan, AB1EM_10=0.0, AP5EF_11=100.0, AP9EF_11=100.0, APR3EM_11=83.3, AB1EM_11=23.4, AP5EF_12=96.0, AP9EF_12=86.4, AP3EM_12=64.7, AB1EM_12=11.5, AP5EF_13=100.0, AP9EF_13=75.0, AP3EM_13=70.0, AB1EM_13=14.9, AP5EF_14=100.0, AP9EF_14=98.0, AP3EM_14=93.1, AB1EM_14=nan, DI3EM_07=nan, DI3EM_08=nan, DI3EM_09=nan, DI3EM_10=nan, DI3EM_11=nan, DI3EM_12=34.3, DI3EM_13=22.9, DI3EM_14=10.7, MAT05_AI=nan, LP05_AI=nan, NP05_AI=nan, MAT07_AI=178.36, LP07_AI=163.31, NP07_AI=4.34, MAT09_AI=nan, LP09_AI=nan, NP09_AI=nan, MAT11_AI=219.19, LP11_AI=197.83, NP11_AI=5.74, MAT13_AI=206.32, LP13_AI=191.83, NP13_AI=5.39, IDEB05AI=nan, IDEB07AI=4.2, IDEB09AI=nan, IDEB11AI=5.7, IDEB13AI=5.4, MAT05_AF=nan, LP05_AF=nan, NP05_AF=nan, MAT07_AF=221.65, LP07_AF=225.47, NP07_AF=4.12, MAT09_AF=nan, LP09_AF=nan, NP09_AF=nan, MAT11_AF=246.69, LP11_AF=246.32, NP11_AF=4.88, MAT13_AF=256.65, LP13_AF=246.62, NP13_AF=5.05, IDEB05AF=nan, IDEB07AF=3.9, IDEB09AF=nan, IDEB11AF=4.6, IDEB13AF=4.6, RED_EN13=nan, LC_EN13=nan, MAT_EN13=nan, CH_EN13=nan, CN_EN13=nan, ENEM2013=nan, INSE_AB=49.1493, INSE_CL=u'Medio'),\n",
              " Row(ID=401, LONGITUDE=-47072929, LATITUDE=-23931617, CODESC=35247364, CODESCTX=35247364, NOMEESC=u'RAIZES DO PAU BRASIL EM', NOMEMUN=u'JUQUITIBA', CODMUN=3526209, NOMDIST=u'JUQUITIBA', CODDIST=352620905.0, COD_SC=None, COD_DEP=3, TIP_DEP=u'Municipal', BAIRRO=u'CENTRO', CEP=6950000, END_ESC=u'RUA 28 DE MARCO', NUM_ESC=u'10', DDD=u'11', TELEFONE=u'46813013', LOCALIZA=1, LAB_INF=1, QD_ESP_C=0, QD_ESP_D=0, BIBLIO=0, ENS_REG=1, REG_IN_CR=0, REG_IN_PE=0, REG_FU_8A=0, REG_FU_9A=1, REG_MED=0, REG_MED_I=0, REG_MED_N=0, REG_MED_P=0, ENS_ESP=0, ESP_IN_CR=0, ESP_IN_PE=0, ESP_FU_8A=0, ESP_FU_9A=0, ESP_MED=0, ESP_MED_I=0, ESP_MED_N=0, ESP_MED_P=0, ESP_EJA_F=0, ESP_EJA_M=0, EJA=1, EJA_FUND=1, EJA_MED=0, EJA_PROJ=0, AP5EF_07=80.5, AP9EF_07=nan, AP3EM_07=nan, AB1EM_07=nan, AP5EF_08=81.7, AP9EF_08=nan, AP3EM_08=nan, AB1EM_08=nan, AP5EF_09=76.6, AP9EF_09=nan, AP3EM_09=nan, AB1EM_09=nan, AP5EF_10=85.2, AP9EF_10=nan, AP3EM_10=nan, AB1EM_10=nan, AP5EF_11=99.1, AP9EF_11=nan, APR3EM_11=nan, AB1EM_11=nan, AP5EF_12=87.3, AP9EF_12=nan, AP3EM_12=nan, AB1EM_12=nan, AP5EF_13=92.9, AP9EF_13=nan, AP3EM_13=nan, AB1EM_13=nan, AP5EF_14=92.4, AP9EF_14=nan, AP3EM_14=nan, AB1EM_14=nan, DI3EM_07=nan, DI3EM_08=nan, DI3EM_09=nan, DI3EM_10=nan, DI3EM_11=nan, DI3EM_12=nan, DI3EM_13=nan, DI3EM_14=nan, MAT05_AI=184.2, LP05_AI=183.07, NP05_AI=4.81, MAT07_AI=187.47, LP07_AI=166.11, NP07_AI=4.56, MAT09_AI=202.92, LP09_AI=182.59, NP09_AI=5.16, MAT11_AI=227.53, LP11_AI=207.37, NP11_AI=6.08, MAT13_AI=239.31, LP13_AI=218.79, NP13_AI=6.51, IDEB05AI=4.5, IDEB07AI=4.2, IDEB09AI=4.5, IDEB11AI=5.7, IDEB13AI=6.1, MAT05_AF=nan, LP05_AF=nan, NP05_AF=nan, MAT07_AF=nan, LP07_AF=nan, NP07_AF=nan, MAT09_AF=nan, LP09_AF=nan, NP09_AF=nan, MAT11_AF=nan, LP11_AF=nan, NP11_AF=nan, MAT13_AF=nan, LP13_AF=nan, NP13_AF=nan, IDEB05AF=nan, IDEB07AF=nan, IDEB09AF=nan, IDEB11AF=nan, IDEB13AF=nan, RED_EN13=nan, LC_EN13=nan, MAT_EN13=nan, CH_EN13=nan, CN_EN13=nan, ENEM2013=nan, INSE_AB=52.4479, INSE_CL=u'Medio Alto'),\n",
              " Row(ID=402, LONGITUDE=-47071415, LATITUDE=-23929908, CODESC=35010157, CODESCTX=35010157, NOMEESC=u'OREDO RODRIGUES DA CRUZ', NOMEMUN=u'JUQUITIBA', CODMUN=3526209, NOMDIST=u'JUQUITIBA', CODDIST=352620905.0, COD_SC=None, COD_DEP=2, TIP_DEP=u'Estadual', BAIRRO=u'CENTRO', CEP=6950000, END_ESC=u'AV 31 DE MARCO', NUM_ESC=u'111', DDD=u'11', TELEFONE=u'46814664', LOCALIZA=1, LAB_INF=1, QD_ESP_C=1, QD_ESP_D=1, BIBLIO=0, ENS_REG=1, REG_IN_CR=0, REG_IN_PE=0, REG_FU_8A=0, REG_FU_9A=1, REG_MED=1, REG_MED_I=0, REG_MED_N=0, REG_MED_P=0, ENS_ESP=0, ESP_IN_CR=0, ESP_IN_PE=0, ESP_FU_8A=0, ESP_FU_9A=0, ESP_MED=0, ESP_MED_I=0, ESP_MED_N=0, ESP_MED_P=0, ESP_EJA_F=0, ESP_EJA_M=0, EJA=1, EJA_FUND=1, EJA_MED=1, EJA_PROJ=0, AP5EF_07=nan, AP9EF_07=60.4, AP3EM_07=85.1, AB1EM_07=0.0, AP5EF_08=nan, AP9EF_08=60.8, AP3EM_08=78.4, AB1EM_08=0.0, AP5EF_09=nan, AP9EF_09=74.0, AP3EM_09=82.0, AB1EM_09=17.1, AP5EF_10=nan, AP9EF_10=75.5, AP3EM_10=83.7, AB1EM_10=11.7, AP5EF_11=nan, AP9EF_11=96.0, APR3EM_11=78.4, AB1EM_11=6.0, AP5EF_12=nan, AP9EF_12=79.8, AP3EM_12=85.5, AB1EM_12=15.9, AP5EF_13=nan, AP9EF_13=85.8, AP3EM_13=86.3, AB1EM_13=9.5, AP5EF_14=nan, AP9EF_14=83.4, AP3EM_14=88.6, AB1EM_14=5.6, DI3EM_07=29.3, DI3EM_08=25.7, DI3EM_09=26.2, DI3EM_10=21.5, DI3EM_11=18.6, DI3EM_12=20.7, DI3EM_13=23.6, DI3EM_14=12.9, MAT05_AI=nan, LP05_AI=nan, NP05_AI=nan, MAT07_AI=nan, LP07_AI=nan, NP07_AI=nan, MAT09_AI=nan, LP09_AI=nan, NP09_AI=nan, MAT11_AI=nan, LP11_AI=nan, NP11_AI=nan, MAT13_AI=nan, LP13_AI=nan, NP13_AI=nan, IDEB05AI=nan, IDEB07AI=nan, IDEB09AI=nan, IDEB11AI=nan, IDEB13AI=nan, MAT05_AF=nan, LP05_AF=nan, NP05_AF=nan, MAT07_AF=243.11, LP07_AF=231.78, NP07_AF=4.58, MAT09_AF=246.61, LP09_AF=241.99, NP09_AF=4.81, MAT11_AF=242.14, LP11_AF=236.8, NP11_AF=4.65, MAT13_AF=246.64, LP13_AF=239.25, NP13_AF=4.76, IDEB05AF=nan, IDEB07AF=3.7, IDEB09AF=4.3, IDEB11AF=4.1, IDEB13AF=4.4, RED_EN13=nan, LC_EN13=nan, MAT_EN13=nan, CH_EN13=nan, CN_EN13=nan, ENEM2013=nan, INSE_AB=49.7549, INSE_CL=u'Medio'),\n",
              " Row(ID=95, LONGITUDE=-47069373, LATITUDE=-23932430, CODESC=35352536, CODESCTX=35352536, NOMEESC=u'SOL NASCENTE CENTRO MUNICIPAL DE HABILITACAO E REABILITCAO', NOMEMUN=u'JUQUITIBA', CODMUN=3526209, NOMDIST=u'JUQUITIBA', CODDIST=352620905.0, COD_SC=None, COD_DEP=3, TIP_DEP=u'Municipal', BAIRRO=u'CENTRO', CEP=6950000, END_ESC=u'AV JUSCELINO K DE OLIVEIRA', NUM_ESC=u'130', DDD=u'11', TELEFONE=u'46814278', LOCALIZA=1, LAB_INF=0, QD_ESP_C=0, QD_ESP_D=0, BIBLIO=0, ENS_REG=0, REG_IN_CR=0, REG_IN_PE=0, REG_FU_8A=0, REG_FU_9A=0, REG_MED=0, REG_MED_I=0, REG_MED_N=0, REG_MED_P=0, ENS_ESP=1, ESP_IN_CR=0, ESP_IN_PE=0, ESP_FU_8A=0, ESP_FU_9A=1, ESP_MED=0, ESP_MED_I=0, ESP_MED_N=0, ESP_MED_P=0, ESP_EJA_F=0, ESP_EJA_M=0, EJA=0, EJA_FUND=0, EJA_MED=0, EJA_PROJ=0, AP5EF_07=nan, AP9EF_07=nan, AP3EM_07=nan, AB1EM_07=nan, AP5EF_08=nan, AP9EF_08=nan, AP3EM_08=nan, AB1EM_08=nan, AP5EF_09=nan, AP9EF_09=nan, AP3EM_09=nan, AB1EM_09=nan, AP5EF_10=nan, AP9EF_10=nan, AP3EM_10=nan, AB1EM_10=nan, AP5EF_11=nan, AP9EF_11=nan, APR3EM_11=nan, AB1EM_11=nan, AP5EF_12=nan, AP9EF_12=nan, AP3EM_12=nan, AB1EM_12=nan, AP5EF_13=nan, AP9EF_13=nan, AP3EM_13=nan, AB1EM_13=nan, AP5EF_14=nan, AP9EF_14=nan, AP3EM_14=nan, AB1EM_14=nan, DI3EM_07=nan, DI3EM_08=nan, DI3EM_09=nan, DI3EM_10=nan, DI3EM_11=nan, DI3EM_12=nan, DI3EM_13=nan, DI3EM_14=nan, MAT05_AI=nan, LP05_AI=nan, NP05_AI=nan, MAT07_AI=nan, LP07_AI=nan, NP07_AI=nan, MAT09_AI=nan, LP09_AI=nan, NP09_AI=nan, MAT11_AI=nan, LP11_AI=nan, NP11_AI=nan, MAT13_AI=nan, LP13_AI=nan, NP13_AI=nan, IDEB05AI=nan, IDEB07AI=nan, IDEB09AI=nan, IDEB11AI=nan, IDEB13AI=nan, MAT05_AF=nan, LP05_AF=nan, NP05_AF=nan, MAT07_AF=nan, LP07_AF=nan, NP07_AF=nan, MAT09_AF=nan, LP09_AF=nan, NP09_AF=nan, MAT11_AF=nan, LP11_AF=nan, NP11_AF=nan, MAT13_AF=nan, LP13_AF=nan, NP13_AF=nan, IDEB05AF=nan, IDEB07AF=nan, IDEB09AF=nan, IDEB11AF=nan, IDEB13AF=nan, RED_EN13=nan, LC_EN13=nan, MAT_EN13=nan, CH_EN13=nan, CN_EN13=nan, ENEM2013=nan, INSE_AB=nan, INSE_CL=None)]"
            ]
          },
          "metadata": {
            "tags": []
          },
          "execution_count": 20
        }
      ]
    },
    {
      "cell_type": "markdown",
      "metadata": {
        "id": "vUYp9Nkef68D"
      },
      "source": [
        "### 2. Seleção das Colunas do Dataset\n"
      ]
    },
    {
      "cell_type": "markdown",
      "metadata": {
        "id": "JAIEk5K28mtZ"
      },
      "source": [
        "Utilizado o código da escola e a classificação em 2015,  para comparação com o modelo estimado."
      ]
    },
    {
      "cell_type": "code",
      "metadata": {
        "id": "HxK_FnGpf68E",
        "colab": {
          "base_uri": "https://localhost:8080/",
          "height": 187
        },
        "outputId": "1ce8ce17-1f0e-4d75-a4ee-53d1ba8b99df"
      },
      "source": [
        "esc_df = escolas.select(\"CODIGO DA ENTIDADE\", \"Classificacao\")\n",
        "esc_df = esc_df.toDF(\"COD\", \"Classificacao\")\n",
        "esc_df.take(10)"
      ],
      "execution_count": null,
      "outputs": [
        {
          "output_type": "execute_result",
          "data": {
            "text/plain": [
              "[Row(COD=35000139, Classificacao=1),\n",
              " Row(COD=35000140, Classificacao=1),\n",
              " Row(COD=35000267, Classificacao=2),\n",
              " Row(COD=35000280, Classificacao=1),\n",
              " Row(COD=35000334, Classificacao=1),\n",
              " Row(COD=35000413, Classificacao=1),\n",
              " Row(COD=35000486, Classificacao=3),\n",
              " Row(COD=35000553, Classificacao=2),\n",
              " Row(COD=35000620, Classificacao=2),\n",
              " Row(COD=35000668, Classificacao=1)]"
            ]
          },
          "metadata": {
            "tags": []
          },
          "execution_count": 21
        }
      ]
    },
    {
      "cell_type": "markdown",
      "metadata": {
        "id": "iSq_tN418YEs"
      },
      "source": [
        "Utilizadas as médias das notas anuais das escolas (2007, 2009, 2011, 2013) para determinação da média estimada para 2015."
      ]
    },
    {
      "cell_type": "code",
      "metadata": {
        "id": "miHf0rps1ev5",
        "colab": {
          "base_uri": "https://localhost:8080/",
          "height": 187
        },
        "outputId": "4725e5c8-62eb-49f3-c7f4-c989c2a7c4fa"
      },
      "source": [
        "list_df = lista.select(\"CODESC\", \"NP07_AF\", \"NP09_AF\", \"NP11_AF\", \"NP13_AF\")\n",
        "list_df = list_df.toDF(\"COD\", \"NP07_AF\", \"NP09_AF\", \"NP11_AF\", \"NP13_AF\")\n",
        "list_df.take(10)"
      ],
      "execution_count": null,
      "outputs": [
        {
          "output_type": "execute_result",
          "data": {
            "text/plain": [
              "[Row(COD=35080548, NP07_AF=nan, NP09_AF=nan, NP11_AF=nan, NP13_AF=nan),\n",
              " Row(COD=35352524, NP07_AF=nan, NP09_AF=nan, NP11_AF=nan, NP13_AF=nan),\n",
              " Row(COD=35069929, NP07_AF=nan, NP09_AF=nan, NP11_AF=nan, NP13_AF=nan),\n",
              " Row(COD=35036365, NP07_AF=4.18, NP09_AF=4.33, NP11_AF=4.85, NP13_AF=4.76),\n",
              " Row(COD=35913424, NP07_AF=4.47, NP09_AF=2.39, NP11_AF=4.9, NP13_AF=4.61),\n",
              " Row(COD=35915282, NP07_AF=nan, NP09_AF=nan, NP11_AF=nan, NP13_AF=nan),\n",
              " Row(COD=35910569, NP07_AF=4.12, NP09_AF=nan, NP11_AF=4.88, NP13_AF=5.05),\n",
              " Row(COD=35247364, NP07_AF=nan, NP09_AF=nan, NP11_AF=nan, NP13_AF=nan),\n",
              " Row(COD=35010157, NP07_AF=4.58, NP09_AF=4.81, NP11_AF=4.65, NP13_AF=4.76),\n",
              " Row(COD=35352536, NP07_AF=nan, NP09_AF=nan, NP11_AF=nan, NP13_AF=nan)]"
            ]
          },
          "metadata": {
            "tags": []
          },
          "execution_count": 22
        }
      ]
    },
    {
      "cell_type": "markdown",
      "metadata": {
        "id": "BMXqYYh-fV5o"
      },
      "source": [
        "### 2.2 Limpeza dos Dados"
      ]
    },
    {
      "cell_type": "markdown",
      "metadata": {
        "id": "4nufh7tEf68V"
      },
      "source": [
        "### 2.2.1 Identificação de Dados Duplicados\n"
      ]
    },
    {
      "cell_type": "code",
      "metadata": {
        "id": "BnaWRswFfdZR",
        "colab": {
          "base_uri": "https://localhost:8080/",
          "height": 34
        },
        "outputId": "a0012359-d16d-44c3-eb57-ffae08985a8b"
      },
      "source": [
        "esc_df.count() - esc_df.dropDuplicates().count()"
      ],
      "execution_count": null,
      "outputs": [
        {
          "output_type": "execute_result",
          "data": {
            "text/plain": [
              "0"
            ]
          },
          "metadata": {
            "tags": []
          },
          "execution_count": 23
        }
      ]
    },
    {
      "cell_type": "code",
      "metadata": {
        "id": "UWan_R1T2sg3",
        "colab": {
          "base_uri": "https://localhost:8080/",
          "height": 34
        },
        "outputId": "b7964b9d-3ff3-4b8b-ad40-a87a7c701c37"
      },
      "source": [
        "list_df.count() - list_df.dropDuplicates().count()"
      ],
      "execution_count": null,
      "outputs": [
        {
          "output_type": "execute_result",
          "data": {
            "text/plain": [
              "0"
            ]
          },
          "metadata": {
            "tags": []
          },
          "execution_count": 24
        }
      ]
    },
    {
      "cell_type": "markdown",
      "metadata": {
        "id": "IzwSKbcOf9Qp"
      },
      "source": [
        "### 2.2.2 Identificação de Dados faltantes"
      ]
    },
    {
      "cell_type": "code",
      "metadata": {
        "id": "loOHfDlxf1EL",
        "colab": {
          "base_uri": "https://localhost:8080/",
          "height": 34
        },
        "outputId": "5e7bf96e-f0e3-4cfc-d464-f221ca1dad81"
      },
      "source": [
        "esc_df.count() - esc_df.dropDuplicates().dropna(how=\"any\", subset=[\"COD\", \"Classificacao\"]).count()"
      ],
      "execution_count": null,
      "outputs": [
        {
          "output_type": "execute_result",
          "data": {
            "text/plain": [
              "0"
            ]
          },
          "metadata": {
            "tags": []
          },
          "execution_count": 25
        }
      ]
    },
    {
      "cell_type": "code",
      "metadata": {
        "id": "oK4SW2oT3aq7",
        "colab": {
          "base_uri": "https://localhost:8080/",
          "height": 34
        },
        "outputId": "ce381fb9-ecc7-45c1-b3bf-ef70a20c2e07"
      },
      "source": [
        "list_df.count() - list_df.dropDuplicates().dropna(how=\"any\", subset=[\"NP07_AF\", \"NP09_AF\", \"NP11_AF\", \"NP13_AF\"]).count()"
      ],
      "execution_count": null,
      "outputs": [
        {
          "output_type": "execute_result",
          "data": {
            "text/plain": [
              "9087"
            ]
          },
          "metadata": {
            "tags": []
          },
          "execution_count": 26
        }
      ]
    },
    {
      "cell_type": "markdown",
      "metadata": {
        "id": "yF28ws0I3-bi"
      },
      "source": [
        "### 2.3 Preenchimento dos dados faltantes"
      ]
    },
    {
      "cell_type": "code",
      "metadata": {
        "id": "xbWJ9jRS4JDF",
        "colab": {
          "base_uri": "https://localhost:8080/",
          "height": 34
        },
        "outputId": "e0dec583-1681-4f91-8097-aa5c57ce7790"
      },
      "source": [
        "esc_df = esc_df.dropDuplicates().fillna(value=0, subset=[\"CODIGO DA ENTIDADE\", \"Classificacao\"])\n",
        "esc_df.count()"
      ],
      "execution_count": null,
      "outputs": [
        {
          "output_type": "execute_result",
          "data": {
            "text/plain": [
              "1243"
            ]
          },
          "metadata": {
            "tags": []
          },
          "execution_count": 27
        }
      ]
    },
    {
      "cell_type": "code",
      "metadata": {
        "id": "Do_qiI2739Ky",
        "colab": {
          "base_uri": "https://localhost:8080/",
          "height": 34
        },
        "outputId": "b193a053-12f9-4837-a9ae-7887931f5d99"
      },
      "source": [
        "list_df = list_df.dropDuplicates().fillna(value=0, subset=[\"NP07_AF\", \"NP09_AF\", \"NP11_AF\", \"NP13_AF\"])\n",
        "list_df.count()"
      ],
      "execution_count": null,
      "outputs": [
        {
          "output_type": "execute_result",
          "data": {
            "text/plain": [
              "10937"
            ]
          },
          "metadata": {
            "tags": []
          },
          "execution_count": 28
        }
      ]
    },
    {
      "cell_type": "markdown",
      "metadata": {
        "id": "1RFmg2hXf68I"
      },
      "source": [
        "### JOIN dos Dados\n",
        "Efetuado o join dos dados de 2015 com os dados anuais, utilizando-se como chave o código da escola."
      ]
    },
    {
      "cell_type": "code",
      "metadata": {
        "id": "xJeY8OXUf68J",
        "colab": {
          "base_uri": "https://localhost:8080/",
          "height": 459
        },
        "outputId": "13c75a3f-df60-411f-9d0d-a34b26d40ee3"
      },
      "source": [
        "comb = esc_df.join(list_df, \"COD\", \"left\")\n",
        "\n",
        "comb.show()"
      ],
      "execution_count": null,
      "outputs": [
        {
          "output_type": "stream",
          "text": [
            "+--------+-------------+-------+-------+-------+-------+\n",
            "|     COD|Classificacao|NP07_AF|NP09_AF|NP11_AF|NP13_AF|\n",
            "+--------+-------------+-------+-------+-------+-------+\n",
            "|35000930|            2|   4.73|   5.01|    5.2|   4.96|\n",
            "|35007882|            1|   4.39|   4.47|   4.26|   4.69|\n",
            "|35008308|            1|   5.36|    5.4|   5.11|   4.88|\n",
            "|35009465|            2|   5.26|    5.5|   5.31|    5.6|\n",
            "|35010297|            1|   4.61|   4.86|    4.7|   5.04|\n",
            "|35120285|            4|    0.0|    0.0|    0.0|    0.0|\n",
            "|35187537|            2|    0.0|    0.0|    0.0|    0.0|\n",
            "|35809559|            2|    0.0|    0.0|    0.0|    0.0|\n",
            "|35105041|            3|    0.0|    0.0|    0.0|    0.0|\n",
            "|35124291|            2|    0.0|    0.0|    0.0|    0.0|\n",
            "|35155019|            2|    0.0|    0.0|    0.0|    0.0|\n",
            "|35185449|            2|    0.0|    0.0|    0.0|    0.0|\n",
            "|35477904|            2|    0.0|    0.0|    0.0|   6.23|\n",
            "|35809305|            2|    0.0|    0.0|    0.0|    0.0|\n",
            "|35038428|            1|   4.12|   4.22|   4.32|   4.69|\n",
            "|35107414|            3|    0.0|    0.0|    0.0|    0.0|\n",
            "|35123560|            2|    0.0|    0.0|    0.0|    0.0|\n",
            "|35124175|            3|    0.0|    0.0|    0.0|    0.0|\n",
            "|35124709|            2|    0.0|    0.0|    0.0|    0.0|\n",
            "|35010650|            1|   4.66|   4.78|   4.92|   4.75|\n",
            "+--------+-------------+-------+-------+-------+-------+\n",
            "only showing top 20 rows\n",
            "\n"
          ],
          "name": "stdout"
        }
      ]
    },
    {
      "cell_type": "code",
      "metadata": {
        "id": "0fyQIf8IiNdM",
        "colab": {
          "base_uri": "https://localhost:8080/",
          "height": 34
        },
        "outputId": "3c87693e-22dd-4786-b5aa-6a31a50c64fe"
      },
      "source": [
        "comb"
      ],
      "execution_count": null,
      "outputs": [
        {
          "output_type": "execute_result",
          "data": {
            "text/plain": [
              "DataFrame[COD: int, Classificacao: int, NP07_AF: double, NP09_AF: double, NP11_AF: double, NP13_AF: double]"
            ]
          },
          "metadata": {
            "tags": []
          },
          "execution_count": 30
        }
      ]
    },
    {
      "cell_type": "code",
      "metadata": {
        "id": "eNT7XRRXqVbL",
        "colab": {
          "base_uri": "https://localhost:8080/",
          "height": 34
        },
        "outputId": "9da47c3a-f73a-4f5e-f39f-78cd0964487c"
      },
      "source": [
        "comb.describe()"
      ],
      "execution_count": null,
      "outputs": [
        {
          "output_type": "execute_result",
          "data": {
            "text/plain": [
              "DataFrame[summary: string, COD: string, Classificacao: string, NP07_AF: string, NP09_AF: string, NP11_AF: string, NP13_AF: string]"
            ]
          },
          "metadata": {
            "tags": []
          },
          "execution_count": 31
        }
      ]
    },
    {
      "cell_type": "code",
      "metadata": {
        "id": "jAB-2_lD5ARR",
        "colab": {
          "base_uri": "https://localhost:8080/",
          "height": 34
        },
        "outputId": "9d90a34e-15ef-4325-ea52-c0d2fd9c65b6"
      },
      "source": [
        "comb.count()"
      ],
      "execution_count": null,
      "outputs": [
        {
          "output_type": "execute_result",
          "data": {
            "text/plain": [
              "1243"
            ]
          },
          "metadata": {
            "tags": []
          },
          "execution_count": 32
        }
      ]
    },
    {
      "cell_type": "markdown",
      "metadata": {
        "id": "15j4JoBorX7A"
      },
      "source": [
        "## Criação de um Modelo de Classificação"
      ]
    },
    {
      "cell_type": "markdown",
      "metadata": {
        "id": "c4r54orirX7M"
      },
      "source": [
        "### Montagem dos dados de Treinamento / Teste\n",
        "30% = Training Data\n",
        "\n",
        "\n",
        "70% = Test Data"
      ]
    },
    {
      "cell_type": "code",
      "metadata": {
        "id": "ga7t639frX7O",
        "colab": {
          "base_uri": "https://localhost:8080/",
          "height": 34
        },
        "outputId": "13b7ec83-e847-49b6-e134-fd0308483297"
      },
      "source": [
        "splits = comb.randomSplit([0.3, 0.7])\n",
        "treino = splits[0]\n",
        "teste = splits[1]\n",
        "treino_rows = treino.count()\n",
        "teste_rows = teste.count()\n",
        "print \"Treino Rows:\", treino_rows, \" Teste Rows:\", teste_rows"
      ],
      "execution_count": null,
      "outputs": [
        {
          "output_type": "stream",
          "text": [
            "Treino Rows: 349  Teste Rows: 894\n"
          ],
          "name": "stdout"
        }
      ]
    },
    {
      "cell_type": "code",
      "metadata": {
        "id": "lXu29vZcpcbD",
        "colab": {
          "base_uri": "https://localhost:8080/",
          "height": 34
        },
        "outputId": "58226307-ff6c-4b56-a27c-a18e6a19efa2"
      },
      "source": [
        "treino"
      ],
      "execution_count": null,
      "outputs": [
        {
          "output_type": "execute_result",
          "data": {
            "text/plain": [
              "DataFrame[COD: int, Classificacao: int, NP07_AF: double, NP09_AF: double, NP11_AF: double, NP13_AF: double]"
            ]
          },
          "metadata": {
            "tags": []
          },
          "execution_count": 34
        }
      ]
    },
    {
      "cell_type": "markdown",
      "metadata": {
        "id": "KVUICtJHrX7Q"
      },
      "source": [
        "### Preparação dos Dados de Treinamento\n",
        "Utilização de classe  **VectorAssembler** para transformar as colunas das médias anuais em um vetor, e renomear a coluna \"Classificação\"."
      ]
    },
    {
      "cell_type": "code",
      "metadata": {
        "id": "ZyVumpWFrX7R",
        "colab": {
          "base_uri": "https://localhost:8080/",
          "height": 459
        },
        "outputId": "12781dc6-b0b3-42dc-93f2-5dfd5f44b9e2"
      },
      "source": [
        "assembler = VectorAssembler(inputCols = [\"NP07_AF\", \"NP09_AF\", \"NP11_AF\", \"NP13_AF\"], outputCol=\"hist\")\n",
        "training = assembler.transform(treino).select(col(\"hist\"), (col(\"Classificacao\").cast(\"Int\").alias(\"predicao\")))\n",
        "training.show()"
      ],
      "execution_count": null,
      "outputs": [
        {
          "output_type": "stream",
          "text": [
            "+--------------------+--------+\n",
            "|                hist|predicao|\n",
            "+--------------------+--------+\n",
            "|[4.61,4.86,4.7,5.04]|       1|\n",
            "|           (4,[],[])|       4|\n",
            "|           (4,[],[])|       3|\n",
            "|  [4.7,4.72,5.1,3.8]|       2|\n",
            "|           (4,[],[])|       2|\n",
            "|           (4,[],[])|       2|\n",
            "|           (4,[],[])|       2|\n",
            "|           (4,[],[])|       3|\n",
            "|           (4,[],[])|       2|\n",
            "|[4.82,4.59,5.31,5...|       2|\n",
            "|[5.07,5.05,5.07,0.0]|       1|\n",
            "|[4.69,4.78,5.17,5.2]|       2|\n",
            "|           (4,[],[])|       2|\n",
            "|           (4,[],[])|       2|\n",
            "|           (4,[],[])|       2|\n",
            "| [4.82,4.51,5.2,5.0]|       2|\n",
            "|[4.94,5.02,5.0,4.73]|       2|\n",
            "|           (4,[],[])|       2|\n",
            "|           (4,[],[])|       2|\n",
            "|           (4,[],[])|       2|\n",
            "+--------------------+--------+\n",
            "only showing top 20 rows\n",
            "\n"
          ],
          "name": "stdout"
        }
      ]
    },
    {
      "cell_type": "markdown",
      "metadata": {
        "id": "fxfRU6wMrX7U"
      },
      "source": [
        "### Treino de um Modelo de Classificação\n",
        "Utilizada a Regressão Logística."
      ]
    },
    {
      "cell_type": "code",
      "metadata": {
        "id": "xdU-xosVrX7V",
        "colab": {
          "base_uri": "https://localhost:8080/",
          "height": 34
        },
        "outputId": "c8ac7e35-1e18-4826-bcb7-f7c7f669fa60"
      },
      "source": [
        "lr = LogisticRegression(labelCol=\"predicao\",featuresCol=\"hist\",maxIter=10,regParam=0.3)\n",
        "model = lr.fit(training)\n",
        "print \"Model trained!\""
      ],
      "execution_count": null,
      "outputs": [
        {
          "output_type": "stream",
          "text": [
            "Model trained!\n"
          ],
          "name": "stdout"
        }
      ]
    },
    {
      "cell_type": "markdown",
      "metadata": {
        "id": "ypq4b3korX7X"
      },
      "source": [
        "### Preparando os Dados de Teste\n"
      ]
    },
    {
      "cell_type": "code",
      "metadata": {
        "id": "WOv5uTUirX7Y",
        "colab": {
          "base_uri": "https://localhost:8080/",
          "height": 459
        },
        "outputId": "bb2b58bc-db42-4735-9bb5-4ae5205979d6"
      },
      "source": [
        "teste_mod = assembler.transform(teste).select(col(\"hist\"), (col(\"Classificacao\")).cast(\"Int\").alias(\"real\"))\n",
        "teste_mod.show()"
      ],
      "execution_count": null,
      "outputs": [
        {
          "output_type": "stream",
          "text": [
            "+--------------------+----+\n",
            "|                hist|real|\n",
            "+--------------------+----+\n",
            "|[4.73,5.01,5.2,4.96]|   2|\n",
            "|[4.39,4.47,4.26,4...|   1|\n",
            "|[5.36,5.4,5.11,4.88]|   1|\n",
            "| [5.26,5.5,5.31,5.6]|   2|\n",
            "|           (4,[],[])|   2|\n",
            "|           (4,[],[])|   2|\n",
            "|           (4,[],[])|   2|\n",
            "|           (4,[],[])|   2|\n",
            "|           (4,[],[])|   2|\n",
            "|      (4,[3],[6.23])|   2|\n",
            "|           (4,[],[])|   2|\n",
            "|[4.12,4.22,4.32,4...|   1|\n",
            "|           (4,[],[])|   3|\n",
            "|           (4,[],[])|   2|\n",
            "|           (4,[],[])|   3|\n",
            "|           (4,[],[])|   2|\n",
            "|[4.66,4.78,4.92,4...|   1|\n",
            "|           (4,[],[])|   4|\n",
            "|           (4,[],[])|   2|\n",
            "|           (4,[],[])|   2|\n",
            "+--------------------+----+\n",
            "only showing top 20 rows\n",
            "\n"
          ],
          "name": "stdout"
        }
      ]
    },
    {
      "cell_type": "markdown",
      "metadata": {
        "id": "8MDmsDwhrX7e"
      },
      "source": [
        "### Teste do Modelo\n"
      ]
    },
    {
      "cell_type": "code",
      "metadata": {
        "id": "AHxzOTmwrX7e",
        "colab": {
          "base_uri": "https://localhost:8080/",
          "height": 1819
        },
        "outputId": "ffd67232-5161-49c3-917f-56f907fbad7b"
      },
      "source": [
        "testando = model.transform(teste_mod)\n",
        "estimado = testando.select(\"hist\", \"prediction\", \"real\")\n",
        "estimado.show(100)"
      ],
      "execution_count": null,
      "outputs": [
        {
          "output_type": "stream",
          "text": [
            "+--------------------+----------+----+\n",
            "|                hist|prediction|real|\n",
            "+--------------------+----------+----+\n",
            "|[4.73,5.01,5.2,4.96]|       2.0|   2|\n",
            "|[4.39,4.47,4.26,4...|       2.0|   1|\n",
            "|[5.36,5.4,5.11,4.88]|       1.0|   1|\n",
            "| [5.26,5.5,5.31,5.6]|       1.0|   2|\n",
            "|           (4,[],[])|       2.0|   2|\n",
            "|           (4,[],[])|       2.0|   2|\n",
            "|           (4,[],[])|       2.0|   2|\n",
            "|           (4,[],[])|       2.0|   2|\n",
            "|           (4,[],[])|       2.0|   2|\n",
            "|      (4,[3],[6.23])|       2.0|   2|\n",
            "|           (4,[],[])|       2.0|   2|\n",
            "|[4.12,4.22,4.32,4...|       2.0|   1|\n",
            "|           (4,[],[])|       2.0|   3|\n",
            "|           (4,[],[])|       2.0|   2|\n",
            "|           (4,[],[])|       2.0|   3|\n",
            "|           (4,[],[])|       2.0|   2|\n",
            "|[4.66,4.78,4.92,4...|       2.0|   1|\n",
            "|           (4,[],[])|       2.0|   4|\n",
            "|           (4,[],[])|       2.0|   2|\n",
            "|           (4,[],[])|       2.0|   2|\n",
            "|           (4,[],[])|       2.0|   2|\n",
            "|           (4,[],[])|       2.0|   2|\n",
            "|           (4,[],[])|       2.0|   1|\n",
            "|           (4,[],[])|       2.0|   2|\n",
            "|           (4,[],[])|       2.0|   2|\n",
            "|           (4,[],[])|       2.0|   3|\n",
            "|           (4,[],[])|       2.0|   2|\n",
            "|[4.57,4.77,4.92,5...|       2.0|   2|\n",
            "|           (4,[],[])|       2.0|   2|\n",
            "|           (4,[],[])|       2.0|   2|\n",
            "|           (4,[],[])|       2.0|   2|\n",
            "|[4.77,4.99,5.21,5...|       1.0|   2|\n",
            "| [4.4,4.36,5.2,5.29]|       2.0|   1|\n",
            "|           (4,[],[])|       2.0|   2|\n",
            "|           (4,[],[])|       2.0|   3|\n",
            "|           (4,[],[])|       2.0|   2|\n",
            "|           (4,[],[])|       2.0|   2|\n",
            "|[4.04,4.64,4.85,4...|       2.0|   1|\n",
            "|[4.91,4.33,5.34,4...|       2.0|   2|\n",
            "|           (4,[],[])|       2.0|   4|\n",
            "|           (4,[],[])|       2.0|   2|\n",
            "|           (4,[],[])|       2.0|   2|\n",
            "|           (4,[],[])|       2.0|   2|\n",
            "|[4.83,4.89,5.31,4...|       2.0|   2|\n",
            "|[4.34,4.49,5.19,4...|       2.0|   1|\n",
            "|[4.89,4.93,4.85,5...|       2.0|   2|\n",
            "|           (4,[],[])|       2.0|   2|\n",
            "|           (4,[],[])|       2.0|   2|\n",
            "|           (4,[],[])|       2.0|   2|\n",
            "|           (4,[],[])|       2.0|   2|\n",
            "|           (4,[],[])|       2.0|   2|\n",
            "|[4.87,4.67,4.83,0.0]|       2.0|   2|\n",
            "|           (4,[],[])|       2.0|   2|\n",
            "|[4.44,4.64,4.88,5...|       2.0|   1|\n",
            "|[5.28,4.89,5.25,4...|       1.0|   1|\n",
            "|[5.04,4.63,5.36,4...|       2.0|   2|\n",
            "|           (4,[],[])|       2.0|   2|\n",
            "|           (4,[],[])|       2.0|   4|\n",
            "|           (4,[],[])|       2.0|   2|\n",
            "|           (4,[],[])|       2.0|   2|\n",
            "|      (4,[3],[6.58])|       2.0|   2|\n",
            "|           (4,[],[])|       2.0|   4|\n",
            "|           (4,[],[])|       2.0|   2|\n",
            "|           (4,[],[])|       2.0|   2|\n",
            "|           (4,[],[])|       2.0|   2|\n",
            "|           (4,[],[])|       2.0|   2|\n",
            "|           (4,[],[])|       2.0|   1|\n",
            "|           (4,[],[])|       2.0|   3|\n",
            "|           (4,[],[])|       2.0|   2|\n",
            "|[4.47,4.87,4.58,4...|       2.0|   2|\n",
            "|           (4,[],[])|       2.0|   2|\n",
            "|[5.36,5.21,5.16,5...|       1.0|   2|\n",
            "|           (4,[],[])|       2.0|   4|\n",
            "|           (4,[],[])|       2.0|   2|\n",
            "|           (4,[],[])|       2.0|   2|\n",
            "|           (4,[],[])|       2.0|   2|\n",
            "|           (4,[],[])|       2.0|   1|\n",
            "|[4.53,4.94,4.67,5...|       2.0|   2|\n",
            "|[4.85,4.44,5.33,5...|       2.0|   1|\n",
            "|           (4,[],[])|       2.0|   2|\n",
            "|           (4,[],[])|       2.0|   3|\n",
            "|[5.27,5.17,4.99,5...|       1.0|   1|\n",
            "|           (4,[],[])|       2.0|   2|\n",
            "|           (4,[],[])|       2.0|   2|\n",
            "|           (4,[],[])|       2.0|   2|\n",
            "|           (4,[],[])|       2.0|   2|\n",
            "|           (4,[],[])|       2.0|   3|\n",
            "|           (4,[],[])|       2.0|   2|\n",
            "|[5.09,5.27,5.23,5...|       1.0|   2|\n",
            "|           (4,[],[])|       2.0|   3|\n",
            "|           (4,[],[])|       2.0|   2|\n",
            "|           (4,[],[])|       2.0|   2|\n",
            "|           (4,[],[])|       2.0|   2|\n",
            "|           (4,[],[])|       2.0|   2|\n",
            "|           (4,[],[])|       2.0|   4|\n",
            "|           (4,[],[])|       2.0|   2|\n",
            "|[5.07,5.39,5.42,5...|       1.0|   2|\n",
            "|           (4,[],[])|       2.0|   3|\n",
            "|           (4,[],[])|       2.0|   2|\n",
            "|           (4,[],[])|       2.0|   3|\n",
            "+--------------------+----------+----+\n",
            "only showing top 100 rows\n",
            "\n"
          ],
          "name": "stdout"
        }
      ]
    },
    {
      "cell_type": "code",
      "metadata": {
        "id": "9O2U32D-b9dd",
        "colab": {
          "base_uri": "https://localhost:8080/",
          "height": 34
        },
        "outputId": "122ef635-eb60-4b7d-f201-dcaac7406727"
      },
      "source": [
        "type(estimado)\n",
        "                              "
      ],
      "execution_count": null,
      "outputs": [
        {
          "output_type": "execute_result",
          "data": {
            "text/plain": [
              "pyspark.sql.dataframe.DataFrame"
            ]
          },
          "metadata": {
            "tags": []
          },
          "execution_count": 39
        }
      ]
    },
    {
      "cell_type": "code",
      "metadata": {
        "id": "gHu5MBAhdxHx",
        "colab": {
          "base_uri": "https://localhost:8080/",
          "height": 476
        },
        "outputId": "986d0920-bf60-4136-b73d-32e51e3c7206"
      },
      "source": [
        "est_rd = estimado.select(round(\"prediction\", 0).alias(\"Estimativa\"), \"real\")\n",
        "est_rd.show()\n",
        "est_rd.count()"
      ],
      "execution_count": null,
      "outputs": [
        {
          "output_type": "stream",
          "text": [
            "+----------+----+\n",
            "|Estimativa|real|\n",
            "+----------+----+\n",
            "|       2.0|   2|\n",
            "|       2.0|   1|\n",
            "|       1.0|   1|\n",
            "|       1.0|   2|\n",
            "|       2.0|   2|\n",
            "|       2.0|   2|\n",
            "|       2.0|   2|\n",
            "|       2.0|   2|\n",
            "|       2.0|   2|\n",
            "|       2.0|   2|\n",
            "|       2.0|   2|\n",
            "|       2.0|   1|\n",
            "|       2.0|   3|\n",
            "|       2.0|   2|\n",
            "|       2.0|   3|\n",
            "|       2.0|   2|\n",
            "|       2.0|   1|\n",
            "|       2.0|   4|\n",
            "|       2.0|   2|\n",
            "|       2.0|   2|\n",
            "+----------+----+\n",
            "only showing top 20 rows\n",
            "\n"
          ],
          "name": "stdout"
        },
        {
          "output_type": "execute_result",
          "data": {
            "text/plain": [
              "894"
            ]
          },
          "metadata": {
            "tags": []
          },
          "execution_count": 50
        }
      ]
    },
    {
      "cell_type": "code",
      "metadata": {
        "id": "zblMykQlgC4h",
        "colab": {
          "base_uri": "https://localhost:8080/",
          "height": 476
        },
        "outputId": "5981dd42-f069-48b2-c085-d5b16d2ffb3c"
      },
      "source": [
        "resultado = est_rd.withColumn(\"res\", when (est_rd.Estimativa == est_rd.real, True).otherwise(False))\n",
        "resultado.show()\n",
        "resultado.count()\n"
      ],
      "execution_count": null,
      "outputs": [
        {
          "output_type": "stream",
          "text": [
            "+----------+----+-----+\n",
            "|Estimativa|real|  res|\n",
            "+----------+----+-----+\n",
            "|       2.0|   2| true|\n",
            "|       2.0|   1|false|\n",
            "|       1.0|   1| true|\n",
            "|       1.0|   2|false|\n",
            "|       2.0|   2| true|\n",
            "|       2.0|   2| true|\n",
            "|       2.0|   2| true|\n",
            "|       2.0|   2| true|\n",
            "|       2.0|   2| true|\n",
            "|       2.0|   2| true|\n",
            "|       2.0|   2| true|\n",
            "|       2.0|   1|false|\n",
            "|       2.0|   3|false|\n",
            "|       2.0|   2| true|\n",
            "|       2.0|   3|false|\n",
            "|       2.0|   2| true|\n",
            "|       2.0|   1|false|\n",
            "|       2.0|   4|false|\n",
            "|       2.0|   2| true|\n",
            "|       2.0|   2| true|\n",
            "+----------+----+-----+\n",
            "only showing top 20 rows\n",
            "\n"
          ],
          "name": "stdout"
        },
        {
          "output_type": "execute_result",
          "data": {
            "text/plain": [
              "894"
            ]
          },
          "metadata": {
            "tags": []
          },
          "execution_count": 42
        }
      ]
    },
    {
      "cell_type": "code",
      "metadata": {
        "id": "c70QigxUzoiz",
        "colab": {
          "base_uri": "https://localhost:8080/",
          "height": 34
        },
        "outputId": "3da3bc36-7d59-4307-a8bf-74efba973c61"
      },
      "source": [
        "cal = resultado.where(col(\"res\") == False)\n",
        "cal.count()"
      ],
      "execution_count": null,
      "outputs": [
        {
          "output_type": "execute_result",
          "data": {
            "text/plain": [
              "298"
            ]
          },
          "metadata": {
            "tags": []
          },
          "execution_count": 43
        }
      ]
    },
    {
      "cell_type": "markdown",
      "metadata": {
        "id": "4QJyC8R2lbQm"
      },
      "source": [
        "### Comparação Final"
      ]
    },
    {
      "cell_type": "code",
      "metadata": {
        "id": "_0y9QFnNlauW",
        "colab": {
          "base_uri": "https://localhost:8080/",
          "height": 34
        },
        "outputId": "f2a8db3b-dc0e-490d-b2ed-0bef1a16637c"
      },
      "source": [
        "((894-298)*100)/894"
      ],
      "execution_count": null,
      "outputs": [
        {
          "output_type": "execute_result",
          "data": {
            "text/plain": [
              "66"
            ]
          },
          "metadata": {
            "tags": []
          },
          "execution_count": 46
        }
      ]
    },
    {
      "cell_type": "markdown",
      "metadata": {
        "id": "pfzsFa1w-OMT"
      },
      "source": [
        "### Conclusão: O percentual de acerto, de acordo com os cálculos, foi de 66%. Acreditamos que poderiam ter sido usadas mais variáveis e refinamento nos cálculos para aperfeiçoar o resultado, além de uma simulação com mais interações.\n",
        "\n",
        "### Att,\n",
        "# Eduardo / Edgar"
      ]
    }
  ]
}